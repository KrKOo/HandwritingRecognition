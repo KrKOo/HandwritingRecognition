{
 "cells": [
  {
   "cell_type": "code",
   "execution_count": 85,
   "id": "04f1211b-f40c-4982-a601-35bb962c7880",
   "metadata": {},
   "outputs": [],
   "source": [
    "import torch\n",
    "from torchvision.transforms import Compose, ToTensor, Lambda, Resize, Grayscale\n",
    "import cv2\n",
    "import GRRNN as net\n",
    "import numpy as np\n",
    "import lmdb\n",
    "import pickle\n",
    "from matplotlib import pyplot as plt"
   ]
  },
  {
   "cell_type": "code",
   "execution_count": 86,
   "id": "a8c9fd74-87f7-4878-82af-14a5ccc060d3",
   "metadata": {},
   "outputs": [],
   "source": [
    "MODEL_PATH = \"model/output-model_epoch_49.pth\"\n",
    "MODE = \"vertical\"\n",
    "DEVICE = \"cuda\"\n",
    "NUM_WRITERS = 21\n",
    "\n",
    "WRITER_IDEXES = \"writer_save\"\n",
    "PATH_TO_LMDB = \"/home/jovyan/data/HWR.2021-11-08/lmdb.hwr_40-1.0\"\n",
    "VAL_DATA = \"/home/jovyan/data/HWR.2021-11-08/dataset_gt/pero.ceske_dopisy.ceske_kroniky.embed/final.2021-11-18/lines.filtered_max_width.val.550.shuf\""
   ]
  },
  {
   "cell_type": "code",
   "execution_count": 87,
   "id": "5c697f13-decf-472d-ac09-9eb5e13a811a",
   "metadata": {},
   "outputs": [],
   "source": [
    "\n",
    "def get_epoch_model(epoch):\n",
    "    model_path = f\"model/output-model_epoch_{epoch}.pth\"\n",
    "    model = net.GrnnNet(1,num_classes=NUM_WRITERS,mode=MODE).to(DEVICE)\n",
    "    \n",
    "    model.load_state_dict(torch.load(model_path,map_location=DEVICE))\n",
    "    model.eval()\n",
    "    return model"
   ]
  },
  {
   "cell_type": "code",
   "execution_count": 88,
   "id": "69767521-ce48-4664-9af5-0a38bb3fd0a1",
   "metadata": {},
   "outputs": [],
   "source": [
    "def transform():\n",
    "    return Compose([\n",
    "        ToTensor(),\n",
    "        Grayscale(),\n",
    "        Lambda(lambda x: x / 255.),\n",
    "        Resize((200, 50)),\n",
    "    ])"
   ]
  },
  {
   "cell_type": "code",
   "execution_count": 90,
   "id": "10e6239f-7256-4359-b6f3-f44622219572",
   "metadata": {},
   "outputs": [],
   "source": [
    "with open(WRITER_IDEXES,'rb') as fp:\n",
    "    id_map = pickle.load(fp)\n",
    "    idx_tab = id_map\n",
    "\n",
    "def get_id(writer):\n",
    "    return idx_tab[writer]"
   ]
  },
  {
   "cell_type": "code",
   "execution_count": 91,
   "id": "b2b88fb2-91c5-4f67-86e9-bf756e02b75c",
   "metadata": {},
   "outputs": [],
   "source": [
    "lmdb_txn = lmdb.open(PATH_TO_LMDB, readonly=True).begin()\n",
    "\n",
    "with open(VAL_DATA) as f:\n",
    "    labels = np.array([line.rstrip().split(\" \", 2) for line in f])\n",
    "\n",
    "def loadImage(name):\n",
    "    image = np.frombuffer(lmdb_txn.get(name.encode()), dtype=np.uint8)\n",
    "    image = cv2.imdecode(image, 1)\n",
    "    image = transform()(image)\n",
    "    return image\n",
    "\n",
    "\n",
    "inputs = np.array([loadImage(label[0]) for label in labels])\n",
    "writers = np.array([get_id(label[1]) for label in labels])\n",
    "\n",
    "batch_input = np.split(inputs, 100)\n",
    "batch_writers = np.split(writers, 100)\n",
    "\n",
    "num_failed = []\n",
    "\n",
    "for epoch in range(50):\n",
    "    model = get_epoch_model(epoch)\n",
    "    results = []\n",
    "    \n",
    "    for i in range(len(batch_input)):\n",
    "        input = torch.as_tensor(batch_input[i]).to(DEVICE).float()\n",
    "        res = model(input).detach().cpu().numpy()\n",
    "        max_index = np.argmax(res, axis=1)\n",
    "        results = np.concatenate((results, max_index))\n",
    "    \n",
    "    \n",
    "    invalid_count = 0\n",
    "    for i in range(len(results)):\n",
    "        if results[i] != writers[i]:\n",
    "            invalid_count += 1\n",
    "\n",
    "    num_failed.append(invalid_count)"
   ]
  },
  {
   "cell_type": "code",
   "execution_count": 92,
   "id": "95618a97-ae6b-4141-95c3-6aca7b3efa91",
   "metadata": {},
   "outputs": [
    {
     "data": {
      "image/png": "[encoded data removed]",
      "text/plain": [
       "<Figure size 640x480 with 1 Axes>"
      ]
     },
     "metadata": {},
     "output_type": "display_data"
    }
   ],
   "source": [
    "x = np.linspace(0, 50) \n",
    "y = 1 - (np.array(num_failed) / 2000)\n",
    "\n",
    "plt.plot(x, y)\n",
    "plt.xlabel(\"Epoch\")\n",
    "plt.ylabel(\"Accuracy\")\n",
    "plt.show()"
   ]
  },
  {
   "cell_type": "code",
   "execution_count": null,
   "id": "ba52910f-c841-497f-9299-5b799bfc0ffc",
   "metadata": {},
   "outputs": [],
   "source": []
  }
 ],
 "metadata": {
  "kernelspec": {
   "display_name": "Python [conda env:knn]",
   "language": "python",
   "name": "conda-env-knn-py"
  },
  "language_info": {
   "codemirror_mode": {
    "name": "ipython",
    "version": 3
   },
   "file_extension": ".py",
   "mimetype": "text/x-python",
   "name": "python",
   "nbconvert_exporter": "python",
   "pygments_lexer": "ipython3",
   "version": "3.11.0"
  }
 },
 "nbformat": 4,
 "nbformat_minor": 5
}
