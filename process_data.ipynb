{
 "cells": [
  {
   "cell_type": "code",
   "execution_count": 15,
   "id": "844331f8-d45e-40c3-9a73-a7ee2c8d08b7",
   "metadata": {},
   "outputs": [],
   "source": [
    "TST_DATA_550=\"/home/jovyan/data/HWR.2021-11-08/dataset_gt/pero.ceske_dopisy.ceske_kroniky.embed/final.2021-11-18/lines.filtered_max_width.tst.550\"\n",
    "LMDB_PATH_HOST=\"/home/jovyan/data/HWR.2021-11-08/lmdb.hwr_40-1.0\"\n",
    "\n",
    "FROM_INDEX = 300\n",
    "COUNT = 5"
   ]
  },
  {
   "cell_type": "code",
   "execution_count": 16,
   "id": "b66e1626-d0b4-440b-808b-5aa8a9044ef4",
   "metadata": {},
   "outputs": [
    {
     "name": "stdout",
     "output_type": "stream",
     "text": [
      "f8b8d90e-216b-436d-ad99-84e3177bb159-1f485c66-539f-487d-b8fa-704d2ab39be4.jpg 46\n",
      "27384660-6e43-4a70-990d-7bca25c14a54-43369685-5b61-4a58-9b6c-95425ac2e063.jpg 46\n",
      "c7acf241-cee3-445e-af3d-08617f974bb7-a941c7ff-8dd1-403a-93eb-0f9d9aad55b4.jpg 46\n",
      "de67ee94-84c8-41aa-86c8-1f9864d2c21a-4d9378a5-50d0-4a0d-a0fd-9528b35eba78.jpg 46\n",
      "d900b52f-d284-4ed5-94bc-0b2abc0dfbe3-a0bca155-a36b-4bf6-88e0-020212ba4691.jpg 46\n",
      "27384660-6e43-4a70-990d-7bca25c14a54-9c809363-f7f5-40ff-87ee-956d59a51c67.jpg 46\n"
     ]
    }
   ],
   "source": [
    "import lmdb\n",
    "import cv2\n",
    "import numpy as np\n",
    "\n",
    "path_to_lmdb_directory = LMDB_PATH_HOST\n",
    "lmdb_txn = lmdb.open(path_to_lmdb_directory, readonly=True).begin()\n",
    "\n",
    "with open(TST_DATA_550) as f:\n",
    "    labels = np.array([line.rstrip().split(\" \", 2) for line in f])\n",
    "\n",
    "for i in range(FROM_INDEX, FROM_INDEX + COUNT + 1):\n",
    "    label = labels[i]\n",
    "    image = np.frombuffer(lmdb_txn.get(label[0].encode()), dtype=np.uint8)\n",
    "    newimg = cv2.imdecode(image, 1)\n",
    "    cv2.imwrite(f\"/home/jovyan/KNN/testing/{label[0]}\", newimg)\n",
    "    print(label[0], label[1])"
   ]
  }
 ],
 "metadata": {
  "kernelspec": {
   "display_name": "Python [conda env:knn]",
   "language": "python",
   "name": "conda-env-knn-py"
  },
  "language_info": {
   "codemirror_mode": {
    "name": "ipython",
    "version": 3
   },
   "file_extension": ".py",
   "mimetype": "text/x-python",
   "name": "python",
   "nbconvert_exporter": "python",
   "pygments_lexer": "ipython3",
   "version": "3.11.0"
  }
 },
 "nbformat": 4,
 "nbformat_minor": 5
}
